{
 "cells": [
  {
   "cell_type": "markdown",
   "id": "401fc6ab-f2a4-423b-9f42-4bc71ff898b7",
   "metadata": {
    "execution": {
     "iopub.execute_input": "2025-04-27T08:36:50.888332Z",
     "iopub.status.busy": "2025-04-27T08:36:50.887632Z",
     "iopub.status.idle": "2025-04-27T08:36:50.897482Z",
     "shell.execute_reply": "2025-04-27T08:36:50.895877Z",
     "shell.execute_reply.started": "2025-04-27T08:36:50.888268Z"
    }
   },
   "source": [
    "# IMDB Prediction\n",
    "\n",
    "---"
   ]
  },
  {
   "cell_type": "markdown",
   "id": "b73dbe4e-8164-4459-969a-51bd77faefa7",
   "metadata": {},
   "source": [
    "The following is an interface for our model on Movie Quality prediction. Note that, for some fields, you can choose multiple options by holding down 'ctrl'.\n",
    "The model will then predict the quality of your film idea and display it as a page. The HTML format of this page was generously provided to us by ChatGPT."
   ]
  },
  {
   "cell_type": "code",
   "execution_count": 25,
   "id": "84fb3143-c115-4524-8a78-4f216bf20d46",
   "metadata": {
    "execution": {
     "iopub.execute_input": "2025-04-27T12:50:56.345251Z",
     "iopub.status.busy": "2025-04-27T12:50:56.344123Z",
     "iopub.status.idle": "2025-04-27T12:50:56.445658Z",
     "shell.execute_reply": "2025-04-27T12:50:56.443926Z",
     "shell.execute_reply.started": "2025-04-27T12:50:56.345189Z"
    }
   },
   "outputs": [
    {
     "data": {
      "application/vnd.jupyter.widget-view+json": {
       "model_id": "463779932c4a49faa45e841483bc2e10",
       "version_major": 2,
       "version_minor": 0
      },
      "text/plain": [
       "VBox(children=(Text(value='', description='FILM TITLE:', placeholder='Type something here...', style=TextStyle…"
      ]
     },
     "execution_count": 25,
     "metadata": {},
     "output_type": "execute_result"
    }
   ],
   "source": [
    "%run backend.ipynb\n",
    "widgets.VBox([title, plot, runtime, mpaa, budget, genres, cast, director, producer, distributor, button, output])"
   ]
  }
 ],
 "metadata": {
  "kernelspec": {
   "display_name": "Python [conda env:base] *",
   "language": "python",
   "name": "conda-base-py"
  },
  "language_info": {
   "codemirror_mode": {
    "name": "ipython",
    "version": 3
   },
   "file_extension": ".py",
   "mimetype": "text/x-python",
   "name": "python",
   "nbconvert_exporter": "python",
   "pygments_lexer": "ipython3",
   "version": "3.12.8"
  }
 },
 "nbformat": 4,
 "nbformat_minor": 5
}
